{
 "cells": [
  {
   "cell_type": "markdown",
   "metadata": {},
   "source": [
    "# Tutorial on using Propnet"
   ]
  },
  {
   "cell_type": "markdown",
   "metadata": {},
   "source": [
    "The following is a tutorial designed to give a base overview of the classes and constructs used in the Propnet project. For each class an example of its construction and base usage is provided."
   ]
  },
  {
   "cell_type": "markdown",
   "metadata": {},
   "source": [
    "# Defining a Property Network: Propnet"
   ]
  },
  {
   "cell_type": "markdown",
   "metadata": {},
   "source": [
    "A Graph object tells us about all the property types and models currently available for use.\n",
    "\n",
    "The mappings contained in this object define an interconnected network of materials properties. In this form, the Graph object can be used to enumerate and analyze links between differnet materials properties."
   ]
  },
  {
   "cell_type": "code",
   "execution_count": 1,
   "metadata": {},
   "outputs": [
    {
     "name": "stdout",
     "output_type": "stream",
     "text": [
      "Propnet is not intended for public use at this time. Functionality might change.\n",
      "\n"
     ]
    }
   ],
   "source": [
    "from propnet.core.graph import Graph"
   ]
  },
  {
   "cell_type": "code",
   "execution_count": 2,
   "metadata": {},
   "outputs": [],
   "source": [
    "g = Graph()"
   ]
  },
  {
   "cell_type": "markdown",
   "metadata": {},
   "source": [
    "You can print Propnet to see the property types and models it supports."
   ]
  },
  {
   "cell_type": "code",
   "execution_count": 3,
   "metadata": {},
   "outputs": [
    {
     "name": "stdout",
     "output_type": "stream",
     "text": [
      "Propnet Printout\n",
      "\n",
      "Properties\n",
      "\tformula\n",
      "\tdimensionality\n",
      "\tstructure_oxi\n",
      "\toxide_type\n",
      "\tis_metallic\n",
      "\tmagnetic_order\n",
      "\texternal_identifier_mp\n",
      "\tcomputed_entry\n",
      "\tstructure\n",
      "\tpotentially_ferroelectric\n",
      "\tprototype\n",
      "\tcomposition\n",
      "\tnull_symbol\n",
      "\tatomic_density\n",
      "\telastic_tensor_voigt\n",
      "\tinterplanar_spacing\n",
      "\tsound_velocity_longitudinal\n",
      "\tgoldschmidt_tolerance_factor\n",
      "\tthermal_conductivity\n",
      "\trefractive_index\n",
      "\tionic_radius_b\n",
      "\tabsorption_coefficient\n",
      "\tp_wave_modulus\n",
      "\tcost_per_kg\n",
      "\textinction_coefficient\n",
      "\telectronic_thermal_conductivity\n",
      "\ttransmittance\n",
      "\tinteratomic_spacing\n",
      "\tband_gap_pbe\n",
      "\telectrical_resistivity\n",
      "\trelative_permittivity\n",
      "\tsnyder_acoustic_sound_velocity\n",
      "\tcost_per_mol\n",
      "\tsound_velocity_mean\n",
      "\tvolume_unit_cell\n",
      "\tyoungs_modulus\n",
      "\tdielectric_figure_of_merit_energy\n",
      "\tpoisson_ratio\n",
      "\tabsorbance\n",
      "\tspecific_heat_capacity_constant_volume\n",
      "\tlame_first_parameter\n",
      "\tcompliance_tensor_voigt\n",
      "\thhi_reserve\n",
      "\tsnyder_optical_sound_velocity\n",
      "\treflectance\n",
      "\tformation_energy_per_atom\n",
      "\tstrengthening_coefficient\n",
      "\tband_gap\n",
      "\tpeierls_stress\n",
      "\tshear_modulus\n",
      "\tsound_velocity_transverse\n",
      "\telectron_effective_mass\n",
      "\tbulk_modulus\n",
      "\tyield_stress\n",
      "\tvickers_hardness\n",
      "\tband_gap_gw\n",
      "\tspecific_heat_capacity_constant_pressure\n",
      "\tthermal_expansion_coefficient\n",
      "\thhi_production\n",
      "\tlattice_unit_cell\n",
      "\tionic_radius_a\n",
      "\tisothermal_compressibility\n",
      "\tpugh_ratio\n",
      "\trelative_permeability\n",
      "\tisentropic_compressibility\n",
      "\tdensity\n",
      "\telectron_mobility\n",
      "\tloss_function\n",
      "\telectrical_conductivity\n",
      "\tenergy_per_atom\n",
      "\tionic_radius\n",
      "\tdislocation_movement_stress\n",
      "\telastic_anisotropy\n",
      "\tsnyder_total_sound_velocity\n",
      "\tenergy_above_hull\n",
      "\tdebye_temperature\n",
      "\tpiezoelectric_tensor\n",
      "\trelative_permittivity_im\n",
      "\tnsites\n",
      "\tdielectric_figure_of_merit_current_leakage\n",
      "\twavelength\n",
      "\tresolved_shear_stress\n",
      "\ttemperature\n",
      "\tgrain_diameter\n",
      "\tschmid_factor\n",
      "\tapplied_stress\n",
      "\tthickness\n",
      "\n",
      "Models\n",
      "\tSoundVelocityElastic_Longitudinal\n",
      "\tPymatgenStructureTransformations\n",
      "\tDebyeTemperature\n",
      "\tGbml\n",
      "\tComplianceFromElasticity\n",
      "\tEmpiricalBandGapsGarcia\n",
      "\tDielectricFigureOfMeritCurrentLeakage\n",
      "\tVoigtShearModulus\n",
      "\tLossFunctionFromComplexPerm\n",
      "\tHillShearModulus\n",
      "\tComplexRefrFromComplexPerm\n",
      "\tVickersHardness_Chen\n",
      "\tPymatgenStructureProperties\n",
      "\tOpticalReflectance\n",
      "\tOpticalAbsorbance\n",
      "\tVoigtBulkModulus\n",
      "\tPughRatio\n",
      "\tSoundVelocityElastic_Transverse\n",
      "\tClarkeThermalConductivity\n",
      "\tReussBulkModulus\n",
      "\tDensity\n",
      "\tHillBulkModulus\n",
      "\tReussShearModulus\n",
      "\tSoundVelocityElastic_Mean\n",
      "\tRefractiveIndexfromRelPerm\n",
      "\tSemiEmpiricalMobility\n",
      "\tVickersHardness_Tian\n",
      "\tCost\n",
      "\tDimensionality\n",
      "\tWiedemannFranzLaw\n",
      "\tHHI\n",
      "\tSchmidsLaw\n",
      "\tBandGapRefractiveIndex\n",
      "\tGoldschmidtTolerance\n",
      "\tPerovskiteClassifier\n",
      "\tPeierlsStress\n",
      "\tHomogeneousElasticityRelations\n",
      "\tOpticalAbsorptionCoefficient\n",
      "\tEmpiricalBandGapSetyawan\n",
      "\tDielectricFigureOfMeritEnergy\n",
      "\tElResistivityfromElConductivity\n",
      "\tIsMetallic\n",
      "\tOpticalTransmittance\n",
      "\n"
     ]
    }
   ],
   "source": [
    "print(g)"
   ]
  },
  {
   "cell_type": "markdown",
   "metadata": {},
   "source": [
    "# Defining a Material Property"
   ]
  },
  {
   "cell_type": "markdown",
   "metadata": {},
   "source": [
    "A Symbol object is used to represent types of properties (such as Young's Modulus) or conditions (such as Temperature).\n",
    "- All Symbol objects are accessible in a global DEFAULT_SYMBOLS variable.\n",
    "- Various metadata for each SymbolType can be accessed as shown below."
   ]
  },
  {
   "cell_type": "code",
   "execution_count": 13,
   "metadata": {},
   "outputs": [
    {
     "name": "stdout",
     "output_type": "stream",
     "text": [
      "youngs_modulus:\n",
      "\tname:\tyoungs_modulus\n",
      "\tcategory:\tproperty\n",
      "\tunits:\t1.0 gigapascal\n",
      "\tobject_type:\tNone\n",
      "\tdisplay_names:\t[\"Young's modulus\", 'Elastic modulus']\n",
      "\tdisplay_symbols:\t['E']\n",
      "\tshape:\t1\n",
      "\tcomment:\t\n",
      "\n"
     ]
    }
   ],
   "source": [
    "from propnet.symbols import DEFAULT_SYMBOLS\n",
    "symbol_object = DEFAULT_SYMBOLS['youngs_modulus']\n",
    "print(symbol_object)"
   ]
  },
  {
   "cell_type": "markdown",
   "metadata": {},
   "source": [
    "A Quantity object is used to represent values of properties (such as Young's Modulus = 200GPa) or conditions (such as temperature = 300K).\n",
    "\n",
    "- All Quantity objects have a Symbol giving the type of property represented by the value.\n",
    "- All Quantity objects must be created at runtime by specifying a value during instantiation.\n",
    "- All Quantity objects have a list of strings called \"tags\" used to further label the property."
   ]
  },
  {
   "cell_type": "code",
   "execution_count": 14,
   "metadata": {},
   "outputs": [
    {
     "name": "stdout",
     "output_type": "stream",
     "text": [
      "<youngs_modulus, 200 gigapascal, None>\n"
     ]
    }
   ],
   "source": [
    "from propnet.core.quantity import Quantity\n",
    "steel_youngs_modulus = Quantity('youngs_modulus', 200, ['mild steel'])\n",
    "print(steel_youngs_modulus)"
   ]
  },
  {
   "cell_type": "markdown",
   "metadata": {},
   "source": [
    "# Defining a Material"
   ]
  },
  {
   "cell_type": "markdown",
   "metadata": {},
   "source": [
    "A Material object is used to represent a collection of information known about a given material.\n",
    "\n",
    "When it is first created it has no information; however, properties can be added to the material one-by-one."
   ]
  },
  {
   "cell_type": "code",
   "execution_count": 2,
   "metadata": {},
   "outputs": [
    {
     "name": "stdout",
     "output_type": "stream",
     "text": [
      "Material: 533398e9-545c-4a5a-95be-c09aa055780b\n",
      "\tyoungs_modulus\n",
      "\t\t<youngs_modulus, 200 gigapascal, None>\n",
      "\n"
     ]
    }
   ],
   "source": [
    "from propnet.core.materials import Material\n",
    "from propnet.core.quantity import Quantity\n",
    "mild_steel = Material()\n",
    "youngs_modulus = Quantity('youngs_modulus', 200, [])\n",
    "mild_steel.add_quantity(youngs_modulus)\n",
    "print(mild_steel)"
   ]
  },
  {
   "cell_type": "markdown",
   "metadata": {},
   "source": [
    "# Combining Models, Materials, and Symbols"
   ]
  },
  {
   "cell_type": "markdown",
   "metadata": {},
   "source": [
    "As illustrated, a Graph object contains information for connecting many different models and symbol types. This forms an abstract web of interconnected variables without any values specified.\n",
    "\n",
    "On the other hand, a Material object represents a grouping of values for different variables. These are represented as a collection of Quantity objects identified with the material.\n",
    "\n",
    "At runtime, a single Graph object can be combined with one or more Material objects. This procedure allows values to be plugged in to variables. Assuming the required inputs for a model all have values, the Graph object can then dynamically predict the values for the output variables of the model."
   ]
  },
  {
   "cell_type": "code",
   "execution_count": 1,
   "metadata": {},
   "outputs": [
    {
     "name": "stdout",
     "output_type": "stream",
     "text": [
      "Propnet is not intended for public use at this time. Functionality might change.\n",
      "\n",
      "Material: cc798424-97c3-4830-92a6-25c942ad01fe\n",
      "\trefractive_index\n",
      "\t\t<refractive_index, 1.458 dimensionless, None>\n",
      "\n",
      "\trelative_permittivity\n",
      "\t\t<relative_permittivity, 3.9 dimensionless, None>\n",
      "\n"
     ]
    }
   ],
   "source": [
    "from propnet.core.materials import Material\n",
    "from propnet.core.graph import Graph\n",
    "from propnet.core.quantity import Quantity\n",
    "\n",
    "g = Graph()\n",
    "\n",
    "silica = Material()\n",
    "refractive_index = Quantity('refractive_index', 1.458, [])\n",
    "relative_permittivity = Quantity('relative_permittivity', 3.9, [])\n",
    "\n",
    "silica.add_quantity(refractive_index)\n",
    "silica.add_quantity(relative_permittivity)\n",
    "\n",
    "g.add_material(silica)\n",
    "print(silica)"
   ]
  },
  {
   "cell_type": "markdown",
   "metadata": {},
   "source": [
    "Propnet can now examine the input values and identify if any models can be used to derive additional properties.\n",
    "\n",
    "In this example, we've provided the relative permittivity and index of refraction of silica. Thus, using the canonical relationship from electromagnetism, we expect Propnet to properly derive the relative permeability.\n",
    "\n",
    "Re-examining the material object previously created, a new Quantity object, the relative permeability, is now associated with that material."
   ]
  },
  {
   "cell_type": "code",
   "execution_count": 2,
   "metadata": {},
   "outputs": [
    {
     "name": "stdout",
     "output_type": "stream",
     "text": [
      "Material: cc798424-97c3-4830-92a6-25c942ad01fe\n",
      "\trefractive_index\n",
      "\t\t<refractive_index, 1.458 dimensionless, None>\n",
      "\n",
      "\trelative_permittivity\n",
      "\t\t<relative_permittivity, 3.9 dimensionless, None>\n",
      "\n",
      "\trelative_permeability\n",
      "\t\t<relative_permeability, 0.5450676923076923 dimensionless, None>\n",
      "\n"
     ]
    }
   ],
   "source": [
    "g.evaluate(material=silica)\n",
    "print(silica)"
   ]
  },
  {
   "cell_type": "markdown",
   "metadata": {},
   "source": [
    "# Working with Models"
   ]
  },
  {
   "cell_type": "markdown",
   "metadata": {},
   "source": [
    "A Model object is used to represent a relationship between different materials property variables. This object can be directly manipulated and stores relavent metadata available as direct attributes.\n",
    "\n",
    "- All Models are imported as classes at runtime.\n",
    "- A Model class must be instantiated to be used at runtime."
   ]
  },
  {
   "cell_type": "code",
   "execution_count": 3,
   "metadata": {},
   "outputs": [
    {
     "name": "stdout",
     "output_type": "stream",
     "text": [
      "\n",
      "The refractive index gives the factor by which the speed of light is reduced in a medium.\n",
      "\n",
      "Likewise, modeling the induced magnetic and electric dipoles as linear within a material,\n",
      "a relative spatial electrical permittivity and relative spatial magnetic permeability\n",
      "arise from consideration of the total electrical and magnetic fields.\n",
      "\n",
      "From the Maxwell Relations, the index of refraction is equal to the geometric mean  of the\n",
      "relative permittivity and the relative permeability.\n",
      "\n",
      "RefractiveIndexfromRelPerm\n",
      "\n",
      "['n - sqrt(Ur*Er)']\n"
     ]
    }
   ],
   "source": [
    "from propnet.models import *\n",
    "model = RefractiveIndexfromRelPerm()\n",
    "print(model.description)\n",
    "print(model.name)\n",
    "print()\n",
    "print(model.equations)"
   ]
  },
  {
   "cell_type": "markdown",
   "metadata": {},
   "source": [
    "## Model Class Structure - Basic Overview"
   ]
  },
  {
   "cell_type": "markdown",
   "metadata": {},
   "source": [
    "The Model class is a generally-defined interface, and subclasses may alter many aspects of its underlying functionality.\n",
    "\n",
    "\n",
    "Most Model objects will contain equations, symbols, and connections attributes. These define the core functionality of the model:"
   ]
  },
  {
   "cell_type": "markdown",
   "metadata": {},
   "source": [
    "The equations attribute will contain a list of sympy-parsable expressions. These expressions imply trivial equations such that the expression is equal to zero. \n",
    "(ie. x - 4 for corresponding equation x = 4)"
   ]
  },
  {
   "cell_type": "code",
   "execution_count": 4,
   "metadata": {},
   "outputs": [
    {
     "name": "stdout",
     "output_type": "stream",
     "text": [
      "['n - sqrt(Ur*Er)']\n"
     ]
    }
   ],
   "source": [
    "print(model.equations)"
   ]
  },
  {
   "cell_type": "markdown",
   "metadata": {},
   "source": [
    "The symbol_mapping attribute maps the symbols (ie. n) used in the equations to Symbol objects (ie. refractive index) used in the Property Network."
   ]
  },
  {
   "cell_type": "code",
   "execution_count": 5,
   "metadata": {},
   "outputs": [
    {
     "name": "stdout",
     "output_type": "stream",
     "text": [
      "{'Er': 'relative_permeability', 'Ur': 'relative_permittivity', 'n': 'refractive_index'}\n"
     ]
    }
   ],
   "source": [
    "print(model.symbol_mapping)"
   ]
  },
  {
   "cell_type": "markdown",
   "metadata": {},
   "source": [
    "The connections attribute shows what outputs can be generated from a set of inputs, following a standard format."
   ]
  },
  {
   "cell_type": "code",
   "execution_count": 6,
   "metadata": {},
   "outputs": [
    {
     "name": "stdout",
     "output_type": "stream",
     "text": [
      "[{'inputs': ['Ur', 'Er'], 'outputs': ['n']}, {'inputs': ['Er', 'n'], 'outputs': ['Ur']}, {'inputs': ['Ur', 'n'], 'outputs': ['Er']}]\n"
     ]
    }
   ],
   "source": [
    "print(model.connections)"
   ]
  },
  {
   "cell_type": "markdown",
   "metadata": {},
   "source": [
    "A Model can be evaluated to generate outputs if given a complete set of inputs.\n",
    "\n",
    "Given the relative permeability and permittivity, the Refractive Index From Relative Permeability model can correctly calculate the index of refraction.\n",
    "\n",
    "This is given by 'n' in the dictionary below."
   ]
  },
  {
   "cell_type": "code",
   "execution_count": 7,
   "metadata": {
    "scrolled": true
   },
   "outputs": [
    {
     "data": {
      "text/plain": [
       "{'n': <Quantity(1.451206394693739, 'dimensionless')>, 'successful': True}"
      ]
     },
     "execution_count": 7,
     "metadata": {},
     "output_type": "execute_result"
    }
   ],
   "source": [
    "model.evaluate({'Ur': 0.54, 'Er': 3.9})"
   ]
  },
  {
   "cell_type": "markdown",
   "metadata": {},
   "source": [
    "# Loading Materials Data"
   ]
  },
  {
   "cell_type": "markdown",
   "metadata": {},
   "source": [
    "Material properties can be loaded in from the Materials Project so they don't need to be defined and added manually.\n",
    "\n",
    "Accessing Materials Project data requires an API key. You must input your own API key below to run the sample. You can locate your api key by logging into materialsproject.org and visiting the dashboard."
   ]
  },
  {
   "cell_type": "code",
   "execution_count": 16,
   "metadata": {
    "scrolled": true
   },
   "outputs": [
    {
     "name": "stdout",
     "output_type": "stream",
     "text": [
      "Material: 55a6cdb6-dd27-4fa3-afc3-b44445e47b67\n",
      "\tstructure:\tFull Formula (Si2 O4)\n",
      "Reduced Formula: SiO2\n",
      "abc   :   5.138209   5.139163   5.138919\n",
      "angles:  88.540850 120.840203 120.841618\n",
      "Sites (6)\n",
      "  #  SP           a         b         c    coordination_no  forces\n",
      "---  ----  --------  --------  --------  -----------------  --------------------------------------\n",
      "  0  O     0.334692  0.375014  0.209679                  4  [0.00907491, -0.00223112, 0.00638321]\n",
      "  1  Si    0.999993  1.00001   0.999974                  4  [0.00399411, 0.00268543, 0.00019724]\n",
      "  2  O     0.834699  0.959681  0.625017                  4  [0.00353084, 0.00703423, -0.00908806]\n",
      "  3  O     0.165321  0.790307  0.12502                   4  [-0.00778536, -0.00920807, 0.00757932]\n",
      "  4  O     0.665314  0.875015  0.040304                  4  [-0.01303024, -0.000511, -0.00656695]\n",
      "  5  Si    0.49998   0.749969  0.250005                  4  [0.00421573, 0.00223052, 0.00149524]\n",
      "\tlattice_unit_cell:\t[[ 4.59584983 -0.71705099 -2.1829313 ]\n",
      " [-2.5970339   4.37838769 -0.70436621]\n",
      " [-0.42487417  0.71734555  5.07083664]]\n",
      "\tformation_energy_per_atom:\t-3.2846466908333327 electron_volt / atom\n",
      "\tdensity:\t2.1069457950719883 gram / centimeter ** 3\n",
      "\tpretty_formula:\tSiO2\n",
      "\tenergy_above_hull:\t0 electron_volt / atom\n",
      "\tfinal_energy_per_atom:\t-7.9152607999999995 eV\n",
      "\telastic_anisotropy:\t0.86 dimensionless\n",
      "\tvolume_unit_cell:\t94.70800712994269 angstrom ** 3\n",
      "\telastic_tensor_voigt:\t[[91.0, -38.0, 17.0, 0.0, 0.0, 0.0], [-38.0, 91.0, 17.0, 0.0, 0.0, 0.0], [17.0, 17.0, 86.0, 0.0, 0.0, 0.0], [0.0, 0.0, 0.0, 32.0, 0.0, 0.0], [0.0, 0.0, 0.0, 0.0, 32.0, 0.0], [0.0, 0.0, 0.0, 0.0, 0.0, 30.0]]\n",
      "\tfinal_energy:\t-47.4915648 eV\n",
      "\tpiezoelectric_tensor:\t[[0.0, 0.0, 0.0, -0.03729, 0.0, 0.0], [0.0, 0.0, 0.0, 0.0, -0.03729, 0.0], [0.0, 0.0, 0.0, 0.0, 0.0, -0.15524]]\n",
      "\n"
     ]
    }
   ],
   "source": [
    "from propnet.ext.matproj import *\n",
    "my_api_key = None\n",
    "silica = import_material('mp-546794', api_key=my_api_key)\n",
    "print(silica)"
   ]
  },
  {
   "cell_type": "markdown",
   "metadata": {},
   "source": [
    "# Working with Units"
   ]
  },
  {
   "cell_type": "markdown",
   "metadata": {},
   "source": [
    "## Symbol Objects\n",
    "\n",
    "No units need to be specified when defining a Quantity object or plugging values into Models. In the case that no units are supplied, default units are inferred based on those provided in the corresponding Symbol object.\n",
    "\n",
    "For instance, youngs_modulus is a Symbol with the default units of gigapascal. \n",
    "In the example above:\n",
    "\n",
    "           youngs_modulus = Symbol('youngs_modulus', 200, [])\n",
    "           \n",
    "youngs_modulus automatically has the value 200 gigapascals despite no units being provided.\n",
    "\n",
    "It is possible to provide your own units by working with the <b>unit registry</b> (ureg).<br></br>\n",
    "The examples below demonstrate this capability using the method: \n",
    "            \n",
    "            ureg.Quantity(value, unit)\n",
    "            \n",
    "The property network will automatically convert the units you supply into canonical units behind the scenes for use in models that use the property."
   ]
  },
  {
   "cell_type": "code",
   "execution_count": 11,
   "metadata": {},
   "outputs": [
    {
     "name": "stdout",
     "output_type": "stream",
     "text": [
      "Material: a23091ec-9486-4856-9ea3-a352c153fc6a\n",
      "\tyield_stress\n",
      "\t\t<yield_stress, 0.3702484666431411 gigapascal, None>\n",
      "\n"
     ]
    }
   ],
   "source": [
    "from propnet import ureg\n",
    "from propnet.core.graph import Graph\n",
    "from propnet.core.materials import Material\n",
    "from propnet.core.quantity import Quantity\n",
    "\n",
    "g = Graph()\n",
    "\n",
    "mild_steel = Material()\n",
    "yield_strength = Quantity('yield_stress', ureg.Quantity(53700, 'psi'), [])\n",
    "mild_steel.add_quantity(yield_strength)\n",
    "print(mild_steel)"
   ]
  },
  {
   "cell_type": "markdown",
   "metadata": {},
   "source": [
    "## Models\n",
    "No units need to be specified when plugging values into a Model. In the case that no units are supplied, default units are inferred based on those provided in the corresponding SymbolType objects.\n",
    "\n",
    "            model.evaluate(dict)\n",
    "            \n",
    "The above method can be used to plug in raw python floats, indicating that default units are implied. \n",
    "\n",
    "The above method can also be used with custom units supplied to one or more of the values in the dictionary. \n",
    "\n",
    "In the example below we use the property network to calculate the Peierls-Nabarro Stress for a disloaction on the (111) plane in Aluminum (FCC) using custom units of psi for shear modulus."
   ]
  },
  {
   "cell_type": "code",
   "execution_count": 12,
   "metadata": {},
   "outputs": [
    {
     "name": "stdout",
     "output_type": "stream",
     "text": [
      "0.012711228013154436 gigapascal\n"
     ]
    }
   ],
   "source": [
    "model = PeierlsStress()\n",
    "G = ureg.Quantity(3.9*10**6, 'psi')\n",
    "a = 4.046 / 3**(1/2)  # Angstroms automatically assumed by the model.\n",
    "b = 4.046 / 2**(1/2)  # Angstroms automatically assumed by the model.\n",
    "nu = 0.33\n",
    "\n",
    "tau = model.evaluate({'G': G, 'a': a, 'b': b, 'nu': nu})\n",
    "print(tau['T_pn'])"
   ]
  },
  {
   "cell_type": "markdown",
   "metadata": {},
   "source": [
    "## Converting Units\n",
    "Given you have an output with units, it is straightforward to convert between units using Pint."
   ]
  },
  {
   "cell_type": "code",
   "execution_count": 14,
   "metadata": {},
   "outputs": [
    {
     "name": "stdout",
     "output_type": "stream",
     "text": [
      "12.711228013154436 megapascal\n"
     ]
    }
   ],
   "source": [
    "# Converting to megapascals.\n",
    "print(tau['T_pn'].to('megapascal'))"
   ]
  },
  {
   "cell_type": "markdown",
   "metadata": {},
   "source": [
    "# Creating Custom Models and Properties"
   ]
  },
  {
   "cell_type": "markdown",
   "metadata": {},
   "source": [
    "The property network comes with many different models and properties pre-loaded and ready for use.\n",
    "\n",
    "To add additional properties to the project can be accomplished in two different forms:\n",
    "\n",
    "- Defining additional .yaml and .py files in the propnet.models and propnet.symbols folders respectively. For these changes to take effect, the property network must be re-loaded.\n",
    "\n",
    "- Defining additional Model and SymbolType classes at runtime.\n",
    "\n",
    "Both approaches will be detailed below."
   ]
  },
  {
   "cell_type": "markdown",
   "metadata": {},
   "source": [
    "## Defining new model files:\n",
    "Models require a model_name.yaml and a model_name.py file to be defined in the propnet/models folder.\n",
    "\n",
    "The syntax for a model.yaml definition is as follows:\n",
    "\n",
    "<table style=\"width:100%\">\n",
    "  <tr>\n",
    "    <th>Field Name</th>\n",
    "    <th>Field Format</th> \n",
    "    <th>Field Description</th>\n",
    "  </tr>\n",
    "  <tr>\n",
    "    <td>title</td>\n",
    "    <td>string</td> \n",
    "    <td>title of the model</td>\n",
    "  </tr>\n",
    "  <tr>\n",
    "    <td>tags</td>\n",
    "    <td>list of strings</td> \n",
    "    <td>any user-specific tags applying to the model</td>\n",
    "  </tr>\n",
    "  <tr>\n",
    "    <td>references</td>\n",
    "    <td>list of strings</td> \n",
    "    <td>any urls for citing the model</td>\n",
    "  </tr>\n",
    "  <tr>\n",
    "    <td>symbol_mapping</td>\n",
    "    <td>dictionary, string keys, string values</td> \n",
    "    <td>mapping from symbols used in the model to SymbolType names used in the property network</td>\n",
    "  </tr>\n",
    "  <tr>\n",
    "    <td>connections</td>\n",
    "    <td>list of dictionaries with keys: 'inputs', 'outputs' mapping to lists of symbol strings used in the model</td> \n",
    "    <td>datastrucutre used to determine the set of all outputs that can be generated from a set of inputs</td>\n",
    "  </tr>\n",
    "  <tr>\n",
    "    <td>equations</td>\n",
    "    <td>list of strings</td> \n",
    "    <td>list of equations that create the model, defined as the value of the expression equals zero</td>\n",
    "  </tr>\n",
    "</table>\n",
    "\n",
    "By default the python file can be a simple class declaration:\n",
    "\n",
    "            class model_name(AbstractModel):\n",
    "                pass\n",
    "                \n",
    "Methods of the AbstractModel class can be overridden to allow for custom model evaluation() or constraint handling (see below)."
   ]
  },
  {
   "cell_type": "markdown",
   "metadata": {},
   "source": [
    "## Defining new Symbol files:\n",
    "Symbols require a symbol.yaml file to be defined in the propnet/symbols folder.\n",
    "The syntax for a symbol_type.yaml definition is as follows:\n",
    "<table style=\"width:100%\">\n",
    "  <tr>\n",
    "    <th>Field Name</th>\n",
    "    <th>Field Format</th> \n",
    "    <th>Field Description</th>\n",
    "  </tr>\n",
    "  <tr>\n",
    "    <td>name</td>\n",
    "    <td>string</td> \n",
    "    <td>name of the property, must match the file name</td>\n",
    "  </tr>\n",
    "  <tr>\n",
    "    <td>units</td>\n",
    "    <td>nested list: [1.0, [[unit name string, unit_power], ...]</td> \n",
    "    <td>the units used to represent this SymbolType, adjacent entries in the list indicate multiplication.</td>\n",
    "  </tr>\n",
    "  <tr>\n",
    "    <td>display_names</td>\n",
    "    <td>list of strings</td> \n",
    "    <td>any strings useful for representing this SymbolType</td>\n",
    "  </tr>\n",
    "  <tr>\n",
    "    <td>display_symbols</td>\n",
    "    <td>list of strings</td> \n",
    "    <td>any short string symbols useful for representing this SymbolType</td>\n",
    "  </tr>\n",
    "  <tr>\n",
    "    <td>dimension</td>\n",
    "    <td>list of numbers</td> \n",
    "    <td>datastructure to give the length of each dimension in a higher order tensor representation of the property, 1 for a scalar value.</td>\n",
    "  </tr>\n",
    "  <tr>\n",
    "    <td>comment</td>\n",
    "    <td>string</td> \n",
    "    <td>any comments pertinent to the SymbolType</td>\n",
    "  </tr>\n",
    "  <tr>\n",
    "    <td>category</td>\n",
    "    <td>string</td> \n",
    "    <td>whether this is a property, object, or condition</td>\n",
    "  </tr>\n",
    "</table>"
   ]
  },
  {
   "cell_type": "markdown",
   "metadata": {},
   "source": [
    "## Defining Models at Runtime:\n",
    "A Model can be defined as a new class that extends the AbstractModel class.\n",
    "\n",
    "See example below for a simple overview. All information is loaded in through the metadata optional argumnent. This defines a model that takes in values (a, b) and returns their product.\n",
    "\n",
    "Based on symbol_mapping, this model expects variable a to be of type A, variable b to be of type B, and outputs a variable c of type C.\n",
    "\n",
    "For more advanced behavior, additional methods of AbstractModel could be overridden for custom model evaluation() or constraint handling (see below)."
   ]
  },
  {
   "cell_type": "code",
   "execution_count": 15,
   "metadata": {},
   "outputs": [],
   "source": [
    "from propnet.core.models import AbstractModel\n",
    "class Model1 (AbstractModel):\n",
    "    def __init__(self, symbol_types=None):\n",
    "        AbstractModel.__init__(self, metadata={\n",
    "                        'title': 'model1',\n",
    "                        'tags': [],\n",
    "                        'references': [],\n",
    "                        'symbol_mapping': {'a': 'A',\n",
    "                                           'b': 'B',\n",
    "                                           'c': 'C'\n",
    "                                           },\n",
    "                        'connections': [{\n",
    "                                         'inputs': ['a', 'b'],\n",
    "                                         'outputs': ['c']\n",
    "                                         }],\n",
    "                        'equations': ['c=a*b'],\n",
    "                        'description': ''\n",
    "            },\n",
    "            symbol_types=symbol_types)"
   ]
  },
  {
   "cell_type": "markdown",
   "metadata": {},
   "source": [
    "## Defining SymbolTypes at Runtime:\n",
    "A new SymbolType can be defined as a new instance of the SymbolType class by specifying all the metadata present in a symbol_type.yaml file.\n",
    "\n",
    "See example below."
   ]
  },
  {
   "cell_type": "code",
   "execution_count": 16,
   "metadata": {},
   "outputs": [],
   "source": [
    "from propnet.core.symbols import Symbol\n",
    "A = Symbol('gibbs_free_energy', ['G'], ['G'], units=[1.0, [['joules',1]]], shape=1)"
   ]
  },
  {
   "cell_type": "markdown",
   "metadata": {},
   "source": [
    "# A Grand Example"
   ]
  },
  {
   "cell_type": "code",
   "execution_count": 19,
   "metadata": {},
   "outputs": [
    {
     "name": "stdout",
     "output_type": "stream",
     "text": [
      "Silicon's Graph\n",
      "Material: cecd6280-5cc4-4d0a-8cad-b33604a2faa5\n",
      "\ttemperature\n",
      "\t\t<temperature, 300 kelvin, None>\n",
      "\n",
      "\tband_gap\n",
      "\t\t<band_gap, 1.12 electron_volt, None>\n",
      "\n",
      "\telectrical_conductivity\n",
      "\t\t<electrical_conductivity, 0.000434 / meter / ohm, None>\n",
      "\n",
      "\trefractive_index\n",
      "\t\t<refractive_index, 3.1941119999999996 dimensionless, None>\n",
      "\t\t<refractive_index, 3.034774286526527 dimensionless, None>\n",
      "\n",
      "\tband_gap_pbe\n",
      "\t\t<band_gap_pbe, 1.5081602373887242 electron_volt, None>\n",
      "\n",
      "\tis_metallic\n",
      "\t\t<is_metallic, 0 dimensionless, None>\n",
      "\n",
      "\tband_gap_gw\n",
      "\t\t<band_gap_gw, 1.1362725450901805 electron_volt, None>\n",
      "\n",
      "\n",
      "Aluminum's Graph\n",
      "Material: 3b132658-c573-437b-9f32-4fd33dacee44\n",
      "\ttemperature\n",
      "\t\t<temperature, 300 kelvin, None>\n",
      "\n",
      "\tband_gap\n",
      "\t\t<band_gap, 0 electron_volt, None>\n",
      "\n",
      "\telectrical_conductivity\n",
      "\t\t<electrical_conductivity, 36900000.0 / meter / ohm, None>\n",
      "\n",
      "\tband_gap_pbe\n",
      "\t\t<band_gap_pbe, 0.6772997032640949 electron_volt, None>\n",
      "\n",
      "\tis_metallic\n",
      "\t\t<is_metallic, 1 dimensionless, None>\n",
      "\n",
      "\tband_gap_gw\n",
      "\t\t<band_gap_gw, 0.014028056112224449 electron_volt, None>\n",
      "\n",
      "\telectrical_resistivity\n",
      "\t\t<electrical_resistivity, 2.7100271002710027e-08 meter * ohm, None>\n",
      "\n",
      "\telectronic_thermal_conductivity\n",
      "\t\t<electronic_thermal_conductivity, 271.215 watt / kelvin / meter, None>\n",
      "\n"
     ]
    }
   ],
   "source": [
    "silicon = Material()\n",
    "silicon.add_quantity(Quantity('temperature', 300, []))\n",
    "silicon.add_quantity(Quantity('band_gap', 1.12, []))\n",
    "silicon.add_quantity(Quantity('electrical_conductivity', 4.34E-4, []))\n",
    "\n",
    "aluminum = Material()\n",
    "aluminum.add_quantity(Quantity('temperature', 300, []))\n",
    "aluminum.add_quantity(Quantity('band_gap', 0, []))\n",
    "aluminum.add_quantity(Quantity('electrical_conductivity', 3.69E7, []))\n",
    "\n",
    "p1 = Graph(materials=[silicon])\n",
    "p1.evaluate()\n",
    "\n",
    "p2 = Graph(materials=[aluminum])\n",
    "p2.evaluate()\n",
    "\n",
    "print(\"Silicon's Graph\")\n",
    "print(silicon)\n",
    "print()\n",
    "print(\"Aluminum's Graph\")\n",
    "print(aluminum)"
   ]
  },
  {
   "cell_type": "markdown",
   "metadata": {},
   "source": [
    "# Models with Custom Evaluation\n",
    "\n",
    "In several cases, a model may not be representable as an equation parsable by sympy. In these cases, the plug_in method must be overridden to perform the custom evaluation. \n",
    "\n",
    "The is_metallic model is reproduced below, yielding a simple example of custom evaluation."
   ]
  },
  {
   "cell_type": "code",
   "execution_count": 20,
   "metadata": {},
   "outputs": [],
   "source": [
    "class IsMetallic(AbstractModel):\n",
    "    def plug_in(self, symbol_values):\n",
    "        return {'is_metallic': symbol_values['E_g'] <= 0}"
   ]
  },
  {
   "cell_type": "markdown",
   "metadata": {},
   "source": [
    "# A Grand Example"
   ]
  },
  {
   "cell_type": "code",
   "execution_count": null,
   "metadata": {},
   "outputs": [],
   "source": []
  }
 ],
 "metadata": {
  "kernelspec": {
   "display_name": "Python 3",
   "language": "python",
   "name": "python3"
  },
  "language_info": {
   "codemirror_mode": {
    "name": "ipython",
    "version": 3
   },
   "file_extension": ".py",
   "mimetype": "text/x-python",
   "name": "python",
   "nbconvert_exporter": "python",
   "pygments_lexer": "ipython3",
   "version": "3.6.3"
  }
 },
 "nbformat": 4,
 "nbformat_minor": 2
}
